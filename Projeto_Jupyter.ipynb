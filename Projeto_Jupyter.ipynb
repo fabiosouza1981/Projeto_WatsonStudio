{
    "cells": [
        {
            "cell_type": "code",
            "execution_count": 1,
            "metadata": {},
            "outputs": [],
            "source": "# The code was removed by Watson Studio for sharing."
        },
        {
            "cell_type": "markdown",
            "metadata": {
                "collapsed": true
            },
            "source": "<h1>My Jupyter Notebook on Watson Studio</h1>\n<hr width=\"100%\">"
        },
        {
            "cell_type": "markdown",
            "metadata": {},
            "source": "<b>My name is F\u00e1bio, I am Mlitary</b>"
        },
        {
            "cell_type": "markdown",
            "metadata": {},
            "source": "<i>I am interested  in Data Sciense because it's a current and promising profession</i> \n"
        },
        {
            "cell_type": "markdown",
            "metadata": {},
            "source": "<h3>The code in cell below shows a calculator with the basic operations (addition, subtraction, multiplication and division )</h3>"
        },
        {
            "cell_type": "markdown",
            "metadata": {},
            "source": ""
        },
        {
            "cell_type": "code",
            "execution_count": 3,
            "metadata": {
                "scrolled": true
            },
            "outputs": [
                {
                    "name": "stdout",
                    "output_type": "stream",
                    "text": "Digite um n\u00famero: 7\n7 x 1 = 7\n\n7 x 2 = 14\n\n7 x 3 = 21\n\n7 x 4 = 28\n\n7 x 5 = 35\n\n7 x 6 = 42\n\n7 x 7 = 49\n\n7 x 8 = 56\n\n7 x 9 = 63\n\n7 x 10 = 70\n\n7 + 1 = 8\n\n7 + 2 = 9\n\n7 + 3 = 10\n\n7 + 4 = 11\n\n7 + 5 = 12\n\n7 + 6 = 13\n\n7 + 7 = 14\n\n7 + 8 = 15\n\n7 + 9 = 16\n\n7 + 10 = 17\n\n7 - 1 = 6\n\n7 - 2 = 5\n\n7 - 3 = 4\n\n7 - 4 = 3\n\n7 - 5 = 2\n\n7 - 6 = 1\n\n7 - 7 = 0\n\n7 - 8 = -1\n\n7 - 9 = -2\n\n7 - 10 = -3\n\n7 / 1 = 7.0\n\n7 / 2 = 3.5\n\n7 / 3 = 2.3333333333333335\n\n7 / 4 = 1.75\n\n7 / 5 = 1.4\n\n7 / 6 = 1.1666666666666667\n\n7 / 7 = 1.0\n\n7 / 8 = 0.875\n\n7 / 9 = 0.7777777777777778\n\n7 / 10 = 0.7\n\n"
                }
            ],
            "source": "def tabuada(x):\n    for mult in range(1,11):\n        print('{0} x {1} = {2}\\n'.format(x,mult,x*mult))\n    for soma in range(1,11):\n        print('{0} + {1} = {2}\\n'.format(x,soma,x+soma))\n    for sub in range(1,11):\n        print('{0} - {1} = {2}\\n'.format(x,sub,x-sub))\n    for div in range(1,11):\n        print('{0} / {1} = {2}\\n'.format(x,div,x/div))   \n      \nif __name__=='__main__':\n    num = int(input('Digite um n\u00famero: '))\n    tabuada(num)"
        },
        {
            "cell_type": "markdown",
            "metadata": {},
            "source": "<html>\n<head>\n<title>Listas em HTML</title>\n</head>\n\n<body>\n<ol>\n   <li>Name</li>\n   <li>Telephone</li>\n   <li>Adress</li>\n </ol>\n    \n<ul>\n    <li>Data Sciense</li>\n    <li>Machine Learning</li>\n    <li>Deep Learning</li>\n    </ul>\n    \n<table border=\"2\" align=\"left\">    \n<tr>\n    <td>Profession</td>\n    <td>Country</td>\n</tr>\n    \n<tr>\n    <td>Engeneer</td>\n    <td>France</td>\n</tr>\n    \n<tr>\n    <td>Analyst</td>\n    <td>Germany</td>\n</tr>   \n    </table>    \n    \n</body>\n    \n\n    \n    \n    \n    \n"
        },
        {
            "cell_type": "code",
            "execution_count": null,
            "metadata": {},
            "outputs": [],
            "source": ""
        }
    ],
    "metadata": {
        "kernelspec": {
            "display_name": "Python 3.9",
            "language": "python",
            "name": "python3"
        },
        "language_info": {
            "codemirror_mode": {
                "name": "ipython",
                "version": 3
            },
            "file_extension": ".py",
            "mimetype": "text/x-python",
            "name": "python",
            "nbconvert_exporter": "python",
            "pygments_lexer": "ipython3",
            "version": "3.9.12"
        }
    },
    "nbformat": 4,
    "nbformat_minor": 1
}