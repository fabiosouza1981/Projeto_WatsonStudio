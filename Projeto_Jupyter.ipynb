{
    "cells": [
        {
            "cell_type": "code",
            "execution_count": null,
            "metadata": {},
            "outputs": [],
            "source": "# The code was removed by Watson Studio for sharing."
        },
        {
            "cell_type": "markdown",
            "metadata": {
                "collapsed": true
            },
            "source": "<h1><center>My Jupyter Notebook on Watson Studio</center></h1>\n<hr width=\"100%\">"
        },
        {
            "cell_type": "markdown",
            "metadata": {},
            "source": "<table border=\"1\" width=\"300\" align=\"center\" size=\"30\">\n <font size=\"+58\" face=\"Verdana\">   \n       <tr>\n        <th>Nome</th>\n        <th>Idade</th>\n        <th>Profiss\u00e3o</th>\n     </tr>    \n       <tr>\n        <td>F\u00e1bio Souza</td>\n        <td>40</td>\n        <td>Militar</td>\n     </tr>    \n   \n    "
        },
        {
            "cell_type": "markdown",
            "metadata": {},
            "source": "<div style=\"background-color:yellow;text-align:center\">\n    <p><i>Estou interessado em ci\u00eancia de dados porque \u00e9 uma profiss\u00e3o muito promissora.\nA ci\u00eancia de dados mostra os melhores caminhos e auxilia a tomada de decis\u00e3o nas grandes empresas e com isso se tornou um fator diferencial.</i></p>\n</div> "
        },
        {
            "cell_type": "markdown",
            "metadata": {},
            "source": "# Definiremos uma fun\u00e7\u00e3o que executa uma tabuada na c\u00e9lula 5"
        },
        {
            "cell_type": "code",
            "execution_count": null,
            "metadata": {
                "scrolled": true
            },
            "outputs": [],
            "source": "def tabuada(x):\n    for mult in range(1,11):\n        print('{0} x {1} = {2}\\n'.format(x,mult,x*mult))\n    for soma in range(1,11):\n        print('{0} + {1} = {2}\\n'.format(x,soma,x+soma))\n    for sub in range(1,11):\n        print('{0} - {1} = {2}\\n'.format(x,sub,x-sub))\n    for div in range(1,11):\n        print('{0} / {1} = {2}\\n'.format(x,div,x/div))   \n      \nif __name__=='__main__':\n    num = int(input('Digite um n\u00famero: '))\n    tabuada(num)"
        },
        {
            "cell_type": "markdown",
            "metadata": {},
            "source": "<html>\n<head>\n<title>Listas em HTML</title>\n</head>\n\n<body>\n<ol>\n<li>Nome</li>\n<li>Telefone</li>\n<li>Endere\u00e7o</li>\n<li>Pa\u00eds</li>\n</ol>\n</body>"
        },
        {
            "cell_type": "code",
            "execution_count": null,
            "metadata": {},
            "outputs": [],
            "source": ""
        }
    ],
    "metadata": {
        "kernelspec": {
            "display_name": "Python 3.9",
            "language": "python",
            "name": "python3"
        },
        "language_info": {
            "codemirror_mode": {
                "name": "ipython",
                "version": 3
            },
            "file_extension": ".py",
            "mimetype": "text/x-python",
            "name": "python",
            "nbconvert_exporter": "python",
            "pygments_lexer": "ipython3",
            "version": "3.9.12"
        }
    },
    "nbformat": 4,
    "nbformat_minor": 1
}